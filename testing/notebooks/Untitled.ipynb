{
 "cells": [
  {
   "cell_type": "code",
   "execution_count": 1,
   "id": "9b3c0a4a",
   "metadata": {},
   "outputs": [],
   "source": [
    "%load_ext autoreload\n",
    "%autoreload 2"
   ]
  },
  {
   "cell_type": "code",
   "execution_count": 4,
   "id": "778fb710",
   "metadata": {},
   "outputs": [],
   "source": [
    "import sys\n",
    "sys.path.append(r'C:\\Users\\omria\\Desktop\\git projects\\spotimy-repo')"
   ]
  },
  {
   "cell_type": "code",
   "execution_count": 7,
   "id": "f3383382",
   "metadata": {},
   "outputs": [],
   "source": [
    "playlist_id = '76d0HCZ3huyzSTZd112j5G'\n",
    "MEGAN_BITCH_SONG = '06scTb0zbkxYNgpAB3J9fN'\n",
    "NEVERITA_SONG = '31i56LZnwE6uSu3exoHjtB'\n",
    "DEECIEN_SONG = '50jULvLQIKWfZWGIh3rYEd'"
   ]
  },
  {
   "cell_type": "code",
   "execution_count": 66,
   "id": "dde01d30",
   "metadata": {},
   "outputs": [],
   "source": [
    "from testing.client import Client\n",
    "client = Client()"
   ]
  },
  {
   "cell_type": "code",
   "execution_count": 67,
   "id": "075c4b1a",
   "metadata": {},
   "outputs": [],
   "source": [
    "tqdm._instances.clear()"
   ]
  },
  {
   "cell_type": "code",
   "execution_count": 68,
   "id": "1956f044",
   "metadata": {},
   "outputs": [
    {
     "name": "stderr",
     "output_type": "stream",
     "text": [
      " 19%|███████████████▎                                                                 | 20/106 [00:01<00:06, 12.44it/s]C:\\Users\\omria\\Desktop\\git projects\\spotimy-repo\\testing\\spotipy_facade\\music_handler\\songs_manager.py:20: UserWarning: Song: Memories (feat. Kid Cudi) - 2021 Remix doesnt have audio features and thus will not be included in the playlist \n",
      "  danceability=audio_features['danceability'],\n",
      "100%|████████████████████████████████████████████████████████████████████████████████| 106/106 [00:08<00:00, 11.98it/s]\n"
     ]
    }
   ],
   "source": [
    "client.load_queue_from_playlist(playlist_id)"
   ]
  },
  {
   "cell_type": "code",
   "execution_count": 69,
   "id": "dc01a405",
   "metadata": {},
   "outputs": [
    {
     "name": "stdout",
     "output_type": "stream",
     "text": [
      "['WTF', 'אחלה גבר', 'Over You', 'Bulletproof', 'Love Tonight - David Guetta Remix Edit', 'Morenita', \"טכנו וג'ין\", 'Off Of My Mind', 'Pepas', 'OUT OUT (feat. Charli XCX & Saweetie)', 'Ritmo', 'Good Ones - Joel Corry Remix', 'Rasputin', 'Breathe', 'Dinero', 'Mood (feat. iann dior)', 'Welcome to Chilis', 'Believe Me', 'My Humps', 'Move Your Body', \"Don't Forget My Love\", 'Bamboleo', 'September', 'edamame (feat. Rich Brian)', 'THATS WHAT I WANT', 'Remember', 'Light Switch', 'My Head & My Heart', 'Domino', 'Uptown Funk (feat. Bruno Mars)', '7 rings', 'Wiggle It (feat. City Girls)', 'מאן רקדן', 'קפה טורקי', 'No Scrubs', 'Drum', 'Alors on danse', 'Partymaker', 'I Like It', 'Magenta Riddim', 'Snake', 'Mask Off', 'Thru Your Mind (feat. Sâlo)', \"Gotta Get Thru This - D'N'D Radio Edit\", 'סירי', 'Paradis bleu', 'BALANÇA', 'Boom Shakalaka', 'Ecstasy', 'Never Look Back (feat. Syd Silvair)', 'מדינה של גנבים', 'AMEN', 'חביב אלבי', 'Raingurl', 'Move Your Feet', 'היידה', 'Hakol Beseder - Omri Smadar Remix', 'Roxanne', 'Cute Boy', 'עזוב אותי מטכנו', 'לכאורה', 'כוסות ריקות', 'רובינזון קרוזו', 'השמלה החדשה שלי', 'הרקדן האוטומטי', 'Insomnia - King Topher Remix', 'Lights Go Down', 'PYRO', 'We Got That Cool (feat. Afrojack & Icona Pop)', \"California Dreamin' (feat. High Jinx)\", 'Flames', 'Sway (Mucho Mambo)', 'UHUH', 'Hallucination - Navos Remix', 'דרמה (Prod. By Triangle)', 'אז מה', 'That Girl', 'Dead End', 'Distance - Volac Remix', 'Drop It (feat. LUISAH)', 'PPL', 'פה זה לא אירופה', 'Shackles (Praise You)', 'Fire In My Soul', 'Instruction (feat. Demi Lovato & Stefflon Don)', 'Calabria 2008', 'Drank & Drugs', 'Head & Heart (feat. MNEK)', 'Cake By The Ocean', 'God Is A Dancer (with Mabel)', 'Baianá', 'Sacrifice', 'Gatluak - Bakermat Remix', 'Sun Goes Down', 'Call Me (with R3HAB & Timmy Trumpet)', 'Gecko (Overdrive) - Radio Edit', 'Magalenha (feat. Sergio Mendes)', 'מגבת באוויר', 'Shots & Squats', 'Oracle', 'Ba La Lirkod', 'Hung Up', 'בא לי זריז', 'Chill Like That', \"פאוץ'\"]\n"
     ]
    }
   ],
   "source": [
    "print(client.get_queue())"
   ]
  },
  {
   "cell_type": "code",
   "execution_count": 70,
   "id": "5de4019f",
   "metadata": {},
   "outputs": [],
   "source": [
    "client.add_song_to_queue(NEVERITA_SONG)"
   ]
  },
  {
   "cell_type": "code",
   "execution_count": 71,
   "id": "8ef37c46",
   "metadata": {},
   "outputs": [],
   "source": [
    "client.shuffle_queue('random')"
   ]
  },
  {
   "cell_type": "code",
   "execution_count": 73,
   "id": "2f14aab4",
   "metadata": {},
   "outputs": [
    {
     "name": "stdout",
     "output_type": "stream",
     "text": [
      "['Fire In My Soul', 'Snake', 'PYRO', 'Pepas', 'היידה', 'Good Ones - Joel Corry Remix', 'BALANÇA', 'That Girl', 'Hakol Beseder - Omri Smadar Remix', 'Welcome to Chilis', 'Morenita', 'Flames', 'Lights Go Down', 'Believe Me', \"Gotta Get Thru This - D'N'D Radio Edit\", 'God Is A Dancer (with Mabel)', 'Hung Up', 'Thru Your Mind (feat. Sâlo)', 'Calabria 2008', 'Baianá', 'Call Me (with R3HAB & Timmy Trumpet)', 'Move Your Feet', 'Never Look Back (feat. Syd Silvair)', 'Ritmo', 'דרמה (Prod. By Triangle)', 'עזוב אותי מטכנו', 'מאן רקדן', 'edamame (feat. Rich Brian)', 'Gecko (Overdrive) - Radio Edit', \"טכנו וג'ין\", 'כוסות ריקות', 'AMEN', 'Cake By The Ocean', 'Love Tonight - David Guetta Remix Edit', 'Light Switch', 'Distance - Volac Remix', 'Hallucination - Navos Remix', 'Dinero', 'אחלה גבר', 'Bamboleo', 'פה זה לא אירופה', 'My Head & My Heart', 'Drank & Drugs', 'סירי', 'חביב אלבי', 'Paradis bleu', \"פאוץ'\", 'Head & Heart (feat. MNEK)', 'Mood (feat. iann dior)', 'הרקדן האוטומטי', 'השמלה החדשה שלי', 'Dead End', 'Cute Boy', 'Over You', 'Shots & Squats', 'Off Of My Mind', 'Drop It (feat. LUISAH)', 'קפה טורקי', 'No Scrubs', 'Shackles (Praise You)', 'WTF', 'Breathe', 'We Got That Cool (feat. Afrojack & Icona Pop)', 'Wiggle It (feat. City Girls)', 'Bulletproof', 'Neverita', \"Don't Forget My Love\", 'Boom Shakalaka', 'I Like It', 'September', 'רובינזון קרוזו', 'Uptown Funk (feat. Bruno Mars)', 'בא לי זריז', 'Ba La Lirkod', 'מדינה של גנבים', \"California Dreamin' (feat. High Jinx)\", 'PPL', 'Oracle', 'Magenta Riddim', 'Mask Off', 'Chill Like That', 'Rasputin', 'OUT OUT (feat. Charli XCX & Saweetie)', 'Alors on danse', 'My Humps', 'Insomnia - King Topher Remix', 'Ecstasy', 'Instruction (feat. Demi Lovato & Stefflon Don)', 'אז מה', 'Sacrifice', 'Partymaker', 'מגבת באוויר', 'Sun Goes Down', 'Domino', 'UHUH', 'Drum', 'Raingurl', 'THATS WHAT I WANT', 'Gatluak - Bakermat Remix', 'Remember', 'Magalenha (feat. Sergio Mendes)', 'Sway (Mucho Mambo)', 'Roxanne', '7 rings', 'Move Your Body', 'לכאורה']\n"
     ]
    }
   ],
   "source": [
    "print(client.get_queue())"
   ]
  },
  {
   "cell_type": "code",
   "execution_count": null,
   "id": "aa88acea",
   "metadata": {},
   "outputs": [],
   "source": []
  }
 ],
 "metadata": {
  "kernelspec": {
   "display_name": "Python 3 (ipykernel)",
   "language": "python",
   "name": "python3"
  },
  "language_info": {
   "codemirror_mode": {
    "name": "ipython",
    "version": 3
   },
   "file_extension": ".py",
   "mimetype": "text/x-python",
   "name": "python",
   "nbconvert_exporter": "python",
   "pygments_lexer": "ipython3",
   "version": "3.11.0"
  }
 },
 "nbformat": 4,
 "nbformat_minor": 5
}
